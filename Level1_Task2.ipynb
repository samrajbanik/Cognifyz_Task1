{
 "cells": [
  {
   "cell_type": "code",
   "execution_count": 1,
   "id": "43048657-71ec-478a-a738-255a0f280c90",
   "metadata": {},
   "outputs": [],
   "source": [
    "import pandas as pd"
   ]
  },
  {
   "cell_type": "code",
   "execution_count": 3,
   "id": "219b054f-8144-40af-9521-919067d9af30",
   "metadata": {},
   "outputs": [],
   "source": [
    "data=pd.read_csv(\"C:/Users/SAMRAJ/Downloads/Cognifyz Dataset.csv\")"
   ]
  },
  {
   "cell_type": "code",
   "execution_count": 5,
   "id": "00441a20-d6cd-4208-836e-d1a391abe441",
   "metadata": {},
   "outputs": [
    {
     "data": {
      "text/plain": [
       "Index(['Restaurant ID', 'Restaurant Name', 'Country Code', 'City', 'Address',\n",
       "       'Locality', 'Locality Verbose', 'Longitude', 'Latitude', 'Cuisines',\n",
       "       'Average Cost for two', 'Currency', 'Has Table booking',\n",
       "       'Has Online delivery', 'Is delivering now', 'Switch to order menu',\n",
       "       'Price range', 'Aggregate rating', 'Rating color', 'Rating text',\n",
       "       'Votes'],\n",
       "      dtype='object')"
      ]
     },
     "execution_count": 5,
     "metadata": {},
     "output_type": "execute_result"
    }
   ],
   "source": [
    "data.columns"
   ]
  },
  {
   "cell_type": "code",
   "execution_count": 7,
   "id": "c0fea913-f83e-4be5-b7db-9a348b1981c4",
   "metadata": {},
   "outputs": [
    {
     "name": "stdout",
     "output_type": "stream",
     "text": [
      "The city with the highest number of restaurants is New Delhi with 5473 restaurants.\n",
      "\n",
      "Average rating for each city:\n",
      "City\n",
      "Abu Dhabi          4.300000\n",
      "Agra               3.965000\n",
      "Ahmedabad          4.161905\n",
      "Albany             3.555000\n",
      "Allahabad          3.395000\n",
      "                     ...   \n",
      "Weirton            3.900000\n",
      "Wellington City    4.250000\n",
      "Winchester Bay     3.200000\n",
      "Yorkton            3.300000\n",
      "��stanbul          4.292857\n",
      "Name: Aggregate rating, Length: 141, dtype: float64\n",
      "\n",
      "The city with the highest average rating is Inner City with an average rating of 4.90.\n"
     ]
    }
   ],
   "source": [
    "# Identify the city with the highest number of restaurants\n",
    "city_counts = data['City'].value_counts()\n",
    "city_with_most_restaurants = city_counts.idxmax()\n",
    "\n",
    "print(f\"The city with the highest number of restaurants is {city_with_most_restaurants} with {city_counts.max()} restaurants.\")\n",
    "\n",
    "# Calculate the average rating for restaurants in each city\n",
    "average_ratings = data.groupby('City')['Aggregate rating'].mean()\n",
    "\n",
    "print(\"\\nAverage rating for each city:\")\n",
    "print(average_ratings)\n",
    "\n",
    "# Determine the city with the highest average rating\n",
    "city_with_highest_average_rating = average_ratings.idxmax()\n",
    "highest_average_rating = average_ratings.max()\n",
    "\n",
    "print(f\"\\nThe city with the highest average rating is {city_with_highest_average_rating} with an average rating of {highest_average_rating:.2f}.\")"
   ]
  },
  {
   "cell_type": "code",
   "execution_count": null,
   "id": "45c0115b-1de8-43c7-a936-17de700bb4c0",
   "metadata": {},
   "outputs": [],
   "source": []
  }
 ],
 "metadata": {
  "kernelspec": {
   "display_name": "Python 3 (ipykernel)",
   "language": "python",
   "name": "python3"
  },
  "language_info": {
   "codemirror_mode": {
    "name": "ipython",
    "version": 3
   },
   "file_extension": ".py",
   "mimetype": "text/x-python",
   "name": "python",
   "nbconvert_exporter": "python",
   "pygments_lexer": "ipython3",
   "version": "3.12.4"
  }
 },
 "nbformat": 4,
 "nbformat_minor": 5
}
