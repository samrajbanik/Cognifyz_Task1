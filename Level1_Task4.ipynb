{
 "cells": [
  {
   "cell_type": "code",
   "execution_count": 1,
   "id": "bfb3d868-0dcc-4557-b654-a2c42982a3ba",
   "metadata": {},
   "outputs": [],
   "source": [
    "import pandas as pd\n",
    "import matplotlib.pyplot as plt"
   ]
  },
  {
   "cell_type": "code",
   "execution_count": 3,
   "id": "de6e956b-e7e2-468b-b823-0579cf1074eb",
   "metadata": {},
   "outputs": [],
   "source": [
    "data=pd.read_csv(\"C:/Users/SAMRAJ/Downloads/Cognifyz Dataset.csv\")"
   ]
  },
  {
   "cell_type": "code",
   "execution_count": 5,
   "id": "e929ec4b-6965-49e7-9cda-d2c1ba3443c7",
   "metadata": {},
   "outputs": [
    {
     "data": {
      "text/plain": [
       "Index(['Restaurant ID', 'Restaurant Name', 'Country Code', 'City', 'Address',\n",
       "       'Locality', 'Locality Verbose', 'Longitude', 'Latitude', 'Cuisines',\n",
       "       'Average Cost for two', 'Currency', 'Has Table booking',\n",
       "       'Has Online delivery', 'Is delivering now', 'Switch to order menu',\n",
       "       'Price range', 'Aggregate rating', 'Rating color', 'Rating text',\n",
       "       'Votes'],\n",
       "      dtype='object')"
      ]
     },
     "execution_count": 5,
     "metadata": {},
     "output_type": "execute_result"
    }
   ],
   "source": [
    "data.columns"
   ]
  },
  {
   "cell_type": "code",
   "execution_count": 7,
   "id": "94c9abbf-601b-4add-868e-02c5d9c82717",
   "metadata": {},
   "outputs": [
    {
     "name": "stdout",
     "output_type": "stream",
     "text": [
      "Percentage of restaurants that offer online delivery: 25.66%\n",
      "Average rating of restaurants with online delivery: 3.25\n",
      "Average rating of restaurants without online delivery: 2.47\n"
     ]
    }
   ],
   "source": [
    "# Determine the percentage of restaurants that offer online delivery\n",
    "online_delivery_counts = data['Has Online delivery'].value_counts()\n",
    "total_restaurants = len(data)\n",
    "\n",
    "percentage_online_delivery = (online_delivery_counts['Yes'] / total_restaurants) * 100\n",
    "\n",
    "print(f\"Percentage of restaurants that offer online delivery: {percentage_online_delivery:.2f}%\")\n",
    "\n",
    "# Compare the average ratings of restaurants with and without online delivery\n",
    "average_rating_online = data[data['Has Online delivery'] == 'Yes']['Aggregate rating'].mean()\n",
    "average_rating_no_online = data[data['Has Online delivery'] == 'No']['Aggregate rating'].mean()\n",
    "\n",
    "print(f\"Average rating of restaurants with online delivery: {average_rating_online:.2f}\")\n",
    "print(f\"Average rating of restaurants without online delivery: {average_rating_no_online:.2f}\")"
   ]
  },
  {
   "cell_type": "code",
   "execution_count": null,
   "id": "0e6c1d1c-a290-47a1-97d2-6bbb44c56973",
   "metadata": {},
   "outputs": [],
   "source": []
  }
 ],
 "metadata": {
  "kernelspec": {
   "display_name": "Python 3 (ipykernel)",
   "language": "python",
   "name": "python3"
  },
  "language_info": {
   "codemirror_mode": {
    "name": "ipython",
    "version": 3
   },
   "file_extension": ".py",
   "mimetype": "text/x-python",
   "name": "python",
   "nbconvert_exporter": "python",
   "pygments_lexer": "ipython3",
   "version": "3.12.4"
  }
 },
 "nbformat": 4,
 "nbformat_minor": 5
}
