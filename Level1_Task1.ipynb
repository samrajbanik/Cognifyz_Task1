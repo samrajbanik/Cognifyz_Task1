{
 "cells": [
  {
   "cell_type": "code",
   "execution_count": 1,
   "id": "d14ec737-4fe0-4c64-94ca-a0a62760d38e",
   "metadata": {},
   "outputs": [],
   "source": [
    "import pandas as pd"
   ]
  },
  {
   "cell_type": "code",
   "execution_count": 9,
   "id": "58d14dd5-c9e4-41f7-af1f-fef23b9c077d",
   "metadata": {},
   "outputs": [],
   "source": [
    "data=pd.read_csv(\"C:/Users/SAMRAJ/Downloads/Cognifyz Dataset.csv\")"
   ]
  },
  {
   "cell_type": "code",
   "execution_count": 11,
   "id": "2ccc5d6d-9a7e-40a5-bf8b-bf99969f44c8",
   "metadata": {},
   "outputs": [
    {
     "name": "stdout",
     "output_type": "stream",
     "text": [
      "Top three most common cuisines:\n",
      "North Indian    3960\n",
      "Chinese         2735\n",
      "Fast Food       1986\n",
      "Name: count, dtype: int64\n",
      "\n",
      "Percentage of restaurants serving each top cuisine:\n",
      "North Indian    41.461627\n",
      "Chinese         28.635745\n",
      "Fast Food       20.793634\n",
      "Name: count, dtype: float64\n"
     ]
    }
   ],
   "source": [
    "# Extracting the 'Cuisines' column and splitting the cuisines\n",
    "cuisine_series = data['Cuisines'].dropna().apply(lambda x: x.split(', '))\n",
    "\n",
    "# Flattening the list of cuisines\n",
    "cuisines = [cuisine for sublist in cuisine_series for cuisine in sublist]\n",
    "\n",
    "# Counting the frequency of each cuisine\n",
    "cuisine_counts = pd.Series(cuisines).value_counts()\n",
    "\n",
    "# Determining the top three most common cuisines\n",
    "top_three_cuisines = cuisine_counts.head(3)\n",
    "\n",
    "# Calculating the percentage of restaurants serving each top cuisine\n",
    "total_restaurants = len(data)\n",
    "top_three_percentages = (top_three_cuisines / total_restaurants) * 100\n",
    "\n",
    "print(\"Top three most common cuisines:\")\n",
    "print(top_three_cuisines)\n",
    "print(\"\\nPercentage of restaurants serving each top cuisine:\")\n",
    "print(top_three_percentages)"
   ]
  },
  {
   "cell_type": "code",
   "execution_count": null,
   "id": "bc1675b9-a34d-4cd9-ae40-72aa95e2ae33",
   "metadata": {},
   "outputs": [],
   "source": []
  }
 ],
 "metadata": {
  "kernelspec": {
   "display_name": "Python 3 (ipykernel)",
   "language": "python",
   "name": "python3"
  },
  "language_info": {
   "codemirror_mode": {
    "name": "ipython",
    "version": 3
   },
   "file_extension": ".py",
   "mimetype": "text/x-python",
   "name": "python",
   "nbconvert_exporter": "python",
   "pygments_lexer": "ipython3",
   "version": "3.12.4"
  }
 },
 "nbformat": 4,
 "nbformat_minor": 5
}
